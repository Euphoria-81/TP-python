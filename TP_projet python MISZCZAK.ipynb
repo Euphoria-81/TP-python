{
 "cells": [
  {
   "cell_type": "markdown",
   "metadata": {},
   "source": [
    "Exercice 1 : Puissance 4 \n",
    "==="
   ]
  },
  {
   "cell_type": "code",
   "execution_count": 93,
   "metadata": {
    "collapsed": false
   },
   "outputs": [],
   "source": [
    "from tkinter import*\n",
    "\n",
    "my_root=Tk()\n",
    "cnv=Canvas(my_root, width=600, height=600, background='ivory')\n",
    "cnv.pack()\n",
    "\n",
    "cnv.create_rectangle((0, 599), (599, 580), fill='blue')\n",
    "\n",
    "cnv.create_rectangle((50, 580), (550, 20), fill='blue')\n",
    "\n",
    "\n",
    "def dot(cnv, C, R=6, color='red'):\n",
    "    xC, yC=C\n",
    "    A=(xC-R, yC-R)\n",
    "    B=(xC+R, yC+R)\n",
    "    return cnv.create_oval(A,B, fill=color, outline=color)\n",
    "\n",
    "x=90\n",
    "y=60\n",
    "\n",
    "DIM=50\n",
    "WIDTH=DIM+PAD\n",
    "HEIGHT=DIM+PAD\n",
    "\n",
    "C=(50,50)\n",
    "for j in range(0,7):\n",
    "    n=50+(j-1)*110\n",
    "    for i in range (0,8):\n",
    "        \n",
    "        dot(cnv, C, R=DIM//2, color=\"ivory\")\n",
    "        C=(50+i-110, n)\n",
    "    C=(50,n)\n",
    "        \n",
    "\n",
    "\n",
    "\n",
    "\n",
    "\n",
    "my_root.mainloop()\n",
    "\n",
    "\n"
   ]
  },
  {
   "cell_type": "markdown",
   "metadata": {},
   "source": [
    "Exercice 2 : Forêt\n",
    "==="
   ]
  },
  {
   "cell_type": "code",
   "execution_count": 97,
   "metadata": {
    "collapsed": true
   },
   "outputs": [],
   "source": [
    "from random import sample\n",
    "from tkinter import Tk, Canvas, Label\n",
    "\n",
    "COLORS=[\"ivory\", \"lime green\", \"red\", \"gray75\"]\n",
    "\n",
    "def random_forest(p, n):\n",
    "    units=[(line,col) for col in range(n) for line in range(n)]\n",
    "    ntrees=int(n**2*p)\n",
    "    trees=sample(units,ntrees)\n",
    "    states=[[0]*n for _ in range(n)]\n",
    "    for (i,j) in trees:\n",
    "        states[i][j]=1\n",
    "    return states\n",
    "\n",
    "def voisins(n, i, j):\n",
    "    return [(a,b) for (a, b) in\n",
    "            [(i, j+1),(i, j-1), (i-1, j), (i+1,j)]\n",
    "            if a in range(n) and b in range(n)]\n",
    "\n",
    "def update_states(states):\n",
    "    n=len(states)\n",
    "    to_fire=[]\n",
    "    for line in range(n):\n",
    "        for col in range(n):\n",
    "            if states[line][col]==2:\n",
    "                states[line][col]=3\n",
    "                for (i, j) in voisins(n, line, col):\n",
    "                    if states[i][j]==1:\n",
    "                        to_fire.append((i, j))\n",
    "    for (line,col) in to_fire:\n",
    "        states[line][col]=2\n",
    "\n",
    "\n",
    "def fill_cell(states, line, col):\n",
    "        A=(unit*col, unit*line)\n",
    "        B=(unit*(col+1), unit*(line+1))\n",
    "        state=states[line][col]\n",
    "        color=COLORS[state]\n",
    "        cnv.create_rectangle(A, B, fill=color, outline='')\n",
    "\n",
    "def fill(states):\n",
    "    n=len(states)\n",
    "    for line in range(n):\n",
    "        for col in range(n):\n",
    "            fill_cell(states, line, col)\n",
    "\n",
    "def propagate():\n",
    "    global cnt\n",
    "    update_states(states)\n",
    "    nfires=sum(states[i][j]==2 for i in range(n) for j in range(n))\n",
    "    cnt+=nfires\n",
    "    percent = int(cnt/ntrees*100)\n",
    "    cnv.delete(\"all\")\n",
    "    fill(states)\n",
    "    lbl[\"text\"]=\"%3s %%\" %percent\n",
    "    cnv.after(150, propagate)\n",
    "\n",
    "p=0.62\n",
    "n=70\n",
    "unit=8\n",
    "ntrees=int(n*n*p)\n",
    "\n",
    "\n",
    "root = Tk()\n",
    "cnv = Canvas(root, width=unit*n, height=unit*n, background=\"ivory\")\n",
    "cnv.pack(side=\"left\")\n",
    "\n",
    "lbl=Label(root,text=\"  0 %\",  font='Arial 25 bold', bg='pink', width=5)\n",
    "lbl.pack(padx=10, pady=10)\n",
    "\n",
    "\n",
    "states=random_forest(p, n)\n",
    "\n",
    "i=n//2\n",
    "j=0\n",
    "states[i][j]=2\n",
    "cnt=1\n",
    "\n",
    "\n",
    "fill(states)\n",
    "propagate()\n",
    "\n",
    "root.mainloop()"
   ]
  },
  {
   "cell_type": "markdown",
   "metadata": {},
   "source": [
    "Exercice 3 : Taquin \n",
    "==="
   ]
  },
  {
   "cell_type": "code",
   "execution_count": null,
   "metadata": {
    "collapsed": true
   },
   "outputs": [],
   "source": []
  }
 ],
 "metadata": {
  "kernelspec": {
   "display_name": "Python 3",
   "language": "python",
   "name": "python3"
  },
  "language_info": {
   "codemirror_mode": {
    "name": "ipython",
    "version": 3
   },
   "file_extension": ".py",
   "mimetype": "text/x-python",
   "name": "python",
   "nbconvert_exporter": "python",
   "pygments_lexer": "ipython3",
   "version": "3.5.3"
  }
 },
 "nbformat": 4,
 "nbformat_minor": 2
}
