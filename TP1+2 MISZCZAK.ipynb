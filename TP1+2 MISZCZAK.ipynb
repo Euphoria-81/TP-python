{
 "cells": [
  {
   "cell_type": "markdown",
   "metadata": {},
   "source": [
    "Exercice 1 : Puissance 4 \n",
    "==="
   ]
  },
  {
   "cell_type": "code",
   "execution_count": 21,
   "metadata": {
    "collapsed": false
   },
   "outputs": [
    {
     "ename": "NameError",
     "evalue": "name 'PAD' is not defined",
     "output_type": "error",
     "traceback": [
      "\u001b[0;31m---------------------------------------------------------------------------\u001b[0m",
      "\u001b[0;31mNameError\u001b[0m                                 Traceback (most recent call last)",
      "\u001b[0;32m<ipython-input-21-378435226bd8>\u001b[0m in \u001b[0;36m<module>\u001b[0;34m()\u001b[0m\n\u001b[1;32m     20\u001b[0m \u001b[0;34m\u001b[0m\u001b[0m\n\u001b[1;32m     21\u001b[0m \u001b[0mDIM\u001b[0m\u001b[0;34m=\u001b[0m\u001b[0;36m50\u001b[0m\u001b[0;34m\u001b[0m\u001b[0m\n\u001b[0;32m---> 22\u001b[0;31m \u001b[0mWIDTH\u001b[0m\u001b[0;34m=\u001b[0m\u001b[0mDIM\u001b[0m\u001b[0;34m+\u001b[0m\u001b[0mPAD\u001b[0m\u001b[0;34m\u001b[0m\u001b[0m\n\u001b[0m\u001b[1;32m     23\u001b[0m \u001b[0mHEIGHT\u001b[0m\u001b[0;34m=\u001b[0m\u001b[0mDIM\u001b[0m\u001b[0;34m+\u001b[0m\u001b[0mPAD\u001b[0m\u001b[0;34m\u001b[0m\u001b[0m\n\u001b[1;32m     24\u001b[0m \u001b[0;34m\u001b[0m\u001b[0m\n",
      "\u001b[0;31mNameError\u001b[0m: name 'PAD' is not defined"
     ]
    }
   ],
   "source": [
    "from tkinter import*\n",
    "\n",
    "my_root=Tk()\n",
    "cnv=Canvas(my_root, width=600, height=600, background='ivory')\n",
    "cnv.pack()\n",
    "\n",
    "cnv.create_rectangle((0, 599), (599, 580), fill='blue')\n",
    "\n",
    "cnv.create_rectangle((50, 580), (550, 20), fill='blue')\n",
    "\n",
    "\n",
    "def dot(cnv, C, R=6, color='red'):\n",
    "    xC, yC=C\n",
    "    A=(xC-R, yC-R)\n",
    "    B=(xC+R, yC+R)\n",
    "    return cnv.create_oval(A,B, fill=color, outline=color)\n",
    "\n",
    "x=90\n",
    "y=60\n",
    "\n",
    "DIM=50\n",
    "WIDTH=DIM+PAD\n",
    "HEIGHT=DIM+PAD\n",
    "\n",
    "C=(50,50)\n",
    "for j in range(0,7):\n",
    "    n=50+(j-1)*110\n",
    "    for i in range (0,8):\n",
    "        \n",
    "        dot(cnv, C, R=DIM//2, color=\"ivory\")\n",
    "        C=(50+i-110, n)\n",
    "    C=(50,n)\n",
    "        \n",
    "\n",
    "\n",
    "\n",
    "\n",
    "\n",
    "my_root.mainloop()\n",
    "\n",
    "\n"
   ]
  },
  {
   "cell_type": "markdown",
   "metadata": {},
   "source": [
    "Exercice 2 : Forêt\n",
    "==="
   ]
  },
  {
   "cell_type": "code",
   "execution_count": 20,
   "metadata": {
    "collapsed": true
   },
   "outputs": [],
   "source": [
    "from random import sample\n",
    "from tkinter import Tk, Canvas, Label\n",
    "\n",
    "COLORS=[\"ivory\", \"lime green\", \"red\", \"gray75\"]\n",
    "\n",
    "def random_forest(p, n):\n",
    "    units=[(line,col) for col in range(n) for line in range(n)]\n",
    "    ntrees=int(n**2*p)\n",
    "    trees=sample(units,ntrees)\n",
    "    states=[[0]*n for _ in range(n)]\n",
    "    for (i,j) in trees:\n",
    "        states[i][j]=1\n",
    "    return states\n",
    "\n",
    "def voisins(n, i, j):\n",
    "    return [(a,b) for (a, b) in\n",
    "            [(i, j+1),(i, j-1), (i-1, j), (i+1,j)]\n",
    "            if a in range(n) and b in range(n)]\n",
    "\n",
    "def update_states(states):\n",
    "    n=len(states)\n",
    "    to_fire=[]\n",
    "    for line in range(n):\n",
    "        for col in range(n):\n",
    "            if states[line][col]==2:\n",
    "                states[line][col]=3\n",
    "                for (i, j) in voisins(n, line, col):\n",
    "                    if states[i][j]==1:\n",
    "                        to_fire.append((i, j))\n",
    "    for (line,col) in to_fire:\n",
    "        states[line][col]=2\n",
    "\n",
    "\n",
    "def fill_cell(states, line, col):\n",
    "        A=(unit*col, unit*line)\n",
    "        B=(unit*(col+1), unit*(line+1))\n",
    "        state=states[line][col]\n",
    "        color=COLORS[state]\n",
    "        cnv.create_rectangle(A, B, fill=color, outline='')\n",
    "\n",
    "def fill(states):\n",
    "    n=len(states)\n",
    "    for line in range(n):\n",
    "        for col in range(n):\n",
    "            fill_cell(states, line, col)\n",
    "\n",
    "def propagate():\n",
    "    global cnt\n",
    "    update_states(states)\n",
    "    nfires=sum(states[i][j]==2 for i in range(n) for j in range(n))\n",
    "    cnt+=nfires\n",
    "    percent = int(cnt/ntrees*100)\n",
    "    cnv.delete(\"all\")\n",
    "    fill(states)\n",
    "    lbl[\"text\"]=\"%3s %%\" %percent\n",
    "    cnv.after(150, propagate)\n",
    "\n",
    "p=0.62\n",
    "n=70\n",
    "unit=8\n",
    "ntrees=int(n*n*p)\n",
    "\n",
    "\n",
    "root = Tk()\n",
    "cnv = Canvas(root, width=unit*n, height=unit*n, background=\"ivory\")\n",
    "cnv.pack(side=\"left\")\n",
    "\n",
    "lbl=Label(root,text=\"  0 %\",  font='Arial 25 bold', bg='pink', width=5)\n",
    "lbl.pack(padx=10, pady=10)\n",
    "\n",
    "\n",
    "states=random_forest(p, n)\n",
    "\n",
    "i=n//2\n",
    "j=0\n",
    "states[i][j]=2\n",
    "cnt=1\n",
    "\n",
    "\n",
    "fill(states)\n",
    "propagate()\n",
    "\n",
    "root.mainloop()"
   ]
  },
  {
   "cell_type": "markdown",
   "metadata": {},
   "source": [
    "Exercice 3 : Taquin \n",
    "==="
   ]
  },
  {
   "cell_type": "code",
   "execution_count": 45,
   "metadata": {
    "collapsed": true
   },
   "outputs": [],
   "source": [
    "from tkinter import *\n",
    "\n",
    "board=[[6, 7, 4, 8],\n",
    "       [5, 15, 13, 2],\n",
    "       [12, 14, 9, 1],\n",
    "       [3, 11, 10, 16]]\n",
    "\n",
    "FONT=('Ubuntu', 27, 'bold')\n",
    "master=Tk()\n",
    "cnv=Canvas(master, width=400, height=400, bg='gray70')\n",
    "cnv.pack()\n",
    "\n",
    "for i in range(4):\n",
    "    for j in range(4):\n",
    "        x, y=100*j, 100*i\n",
    "        A, B, C=(x, y), (x+100, y+100), (x+50, y+50)\n",
    "        rect = cnv.create_rectangle(A, B, fill=\"royal blue\")\n",
    "        txt = cnv.create_text(C, text=board[i][j], fill=\"yellow\",\n",
    "                            font=FONT)\n",
    "\n",
    "cnv.delete(rect)\n",
    "cnv.delete(txt)\n",
    "master.mainloop()"
   ]
  },
  {
   "cell_type": "markdown",
   "metadata": {},
   "source": [
    "Exercice 4 : Solitaire et ses jetons \n",
    "==="
   ]
  },
  {
   "cell_type": "code",
   "execution_count": 46,
   "metadata": {
    "collapsed": false
   },
   "outputs": [],
   "source": [
    "from tkinter import *\n",
    "\n",
    "def dot(cnv, C, R=10, color='red'):\n",
    "    xC, yC=C\n",
    "    A=(xC-R, yC-R)\n",
    "    B=(xC+R, yC+R)\n",
    "    return cnv.create_oval(A,B, fill=color, outline=color)\n",
    "\n",
    "PAD=400\n",
    "DIM=550\n",
    "WIDTH=DIM+PAD\n",
    "HEIGHT=DIM+PAD\n",
    "\n",
    "root = Tk()\n",
    "cnv = Canvas(root, width=WIDTH, height=HEIGHT, background=\"ivory\")\n",
    "cnv.pack()\n",
    "\n",
    "C = (WIDTH//2, HEIGHT//2)\n",
    "\n",
    "dot(cnv, C, R=DIM//1.5, color=\"saddle brown\")\n",
    "\n",
    "\n",
    "\n",
    "\n",
    "\n",
    "\n",
    "\n",
    "\n",
    "\n",
    "root.mainloop()\n"
   ]
  },
  {
   "cell_type": "markdown",
   "metadata": {},
   "source": [
    "Exercice 5 : Multi-pointeur Phaser\n",
    "==="
   ]
  },
  {
   "cell_type": "code",
   "execution_count": 4,
   "metadata": {
    "collapsed": false
   },
   "outputs": [],
   "source": [
    "from tkinter import *\n",
    "from random import randrange\n",
    "\n",
    "WIDTH=800\n",
    "HEIGHT=600\n",
    "\n",
    "GREEN=\"#10ff00\"\n",
    "GRAY=\"#363636\"\n",
    "\n",
    "\n",
    "def point(A, C, k):\n",
    "    xA, yA=A\n",
    "    xC, yC=C\n",
    "    xAC, yAC=(xC-xA, yC-yA)\n",
    "    AC=(xAC**2+yAC**2)**0.5\n",
    "    xu, yu=(xAC/AC, yAC/AC)\n",
    "    xM=xA+k*xu\n",
    "    yM=yA+k*yu\n",
    "    return (xM, yM)\n",
    "\n",
    "root=Tk()\n",
    "cnv=Canvas(root, width=WIDTH, height=HEIGHT, bg=GRAY)\n",
    "cnv.pack()\n",
    "\n",
    "\n",
    "def dot(cnv, C, R=6, color='red'):\n",
    "    xC, yC=C\n",
    "    A=(xC-R, yC-R)\n",
    "    B=(xC+R, yC+R)\n",
    "    return cnv.create_oval(A,B, fill=color, outline=color)\n",
    "\n",
    "def line(A, C):\n",
    "    B=point(A, C, -L)\n",
    "    D=point(A, C, WIDTH)\n",
    "\n",
    "    cnv.create_line(B,A, width=7, fill=GREEN, arrow='last',\n",
    "                    arrowshape=(18,30, 8))\n",
    "    cnv.create_line(A,D, fill=GREEN, dash=3)\n",
    "\n",
    "\n",
    "L=60\n",
    "\n",
    "C=(randrange(WIDTH), randrange(HEIGHT))\n",
    "\n",
    "for _ in range(4):\n",
    "    A=(randrange(WIDTH), randrange(HEIGHT))\n",
    "    line(A,C)\n",
    "\n",
    "root.mainloop()\n"
   ]
  },
  {
   "cell_type": "markdown",
   "metadata": {},
   "source": [
    "Exercice 6 : tables de Micmaths\n",
    "==="
   ]
  },
  {
   "cell_type": "code",
   "execution_count": null,
   "metadata": {
    "collapsed": true
   },
   "outputs": [],
   "source": []
  }
 ],
 "metadata": {
  "kernelspec": {
   "display_name": "Python 3",
   "language": "python",
   "name": "python3"
  },
  "language_info": {
   "codemirror_mode": {
    "name": "ipython",
    "version": 3
   },
   "file_extension": ".py",
   "mimetype": "text/x-python",
   "name": "python",
   "nbconvert_exporter": "python",
   "pygments_lexer": "ipython3",
   "version": "3.5.3"
  }
 },
 "nbformat": 4,
 "nbformat_minor": 2
}
